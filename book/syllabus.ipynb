{
 "cells": [
  {
   "cell_type": "markdown",
   "metadata": {},
   "source": [
    "# Course Logistics and Syllabus\n",
    "\n",
    "```{admonition} This page will be updated by February 28, 2025.\n",
    ":class: warning\n",
    "\n",
    "The overall idea is to cover everything covered by CSE 4/573 by Dr. Junsong Yuan at UB and extend existing course material with latest models in Generative AI including Diffusion DDPM, DDIM models.\n",
    "```"
   ]
  }
 ],
 "metadata": {
  "language_info": {
   "name": "python"
  }
 },
 "nbformat": 4,
 "nbformat_minor": 2
}

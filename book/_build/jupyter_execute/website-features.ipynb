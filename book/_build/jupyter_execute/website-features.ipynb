{
 "cells": [
  {
   "cell_type": "markdown",
   "metadata": {},
   "source": [
    "# Website Features\n",
    "\n",
    "_Will be updated before Lec:0 on May 27, 2025_"
   ]
  },
  {
   "cell_type": "markdown",
   "metadata": {},
   "source": [
    "\n",
    "\n",
    "<video controls preload=\"metadata\">\n",
    "  <source src=\"figures/teaser_new.mp4\" type=\"video/mp4\">\n",
    "</video>\n",
    "\n",
    "**Welcome** to the interactive side!\n",
    "\n",
    "The Summer 2025 version of this course has been completely revamped on two key fundamentals:\n",
    "\n",
    "1. **Intuition**\n",
    "    - Concepts come to life through **visualizations, interactive plots, quizzes, and flashcards**, ensuring deep understanding and long-term retention.\n",
    "\n",
    "2. **Curiosity**\n",
    "    - Dive into hands-on learning with live interactive coding **directly in your browser** and visualize changes instantly.\n",
    "\n",
    "Each chapter is packed with visual aids designed to build strong intuition, helping you grasp complex topics effortlessly. The entire slide deck has been redesigned with animations, zooming, annotations, and a self-hosted format using Reveal.js for an engaging lecture experience.\n",
    "\n",
    "Let's explore this using the slide deck below on Image Convolution. \n",
    "\n",
    "## Slides rebuilt with animations\n",
    "\n",
    "<div>\n",
    "<iframe src=\"https://slides.com/naresh-ub/slides-demo/embed\" width=\"100%\" height=\"500\" title=\"Test Title\" scrolling=\"no\" frameborder=\"0\" webkitallowfullscreen mozallowfullscreen allowfullscreen></iframe>\n",
    "</div>"
   ]
  },
  {
   "cell_type": "code",
   "execution_count": null,
   "metadata": {
    "vscode": {
     "languageId": "plaintext"
    }
   },
   "outputs": [],
   "source": []
  }
 ],
 "metadata": {
  "language_info": {
   "name": "python"
  }
 },
 "nbformat": 4,
 "nbformat_minor": 2
}
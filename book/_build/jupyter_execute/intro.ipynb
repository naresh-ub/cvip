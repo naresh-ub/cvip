{
 "cells": [
  {
   "cell_type": "markdown",
   "id": "534eaad7-4c6d-4bee-865f-c7742660c6f3",
   "metadata": {
    "editable": true,
    "slideshow": {
     "slide_type": ""
    },
    "tags": []
   },
   "source": [
    "# Features"
   ]
  },
  {
   "cell_type": "code",
   "execution_count": 2,
   "id": "e9de29ac",
   "metadata": {
    "tags": [
     "thebe-remove-input-init"
    ]
   },
   "outputs": [],
   "source": [
    "import imageio.v3 as iio\n",
    "import numpy as np\n",
    "import matplotlib.pyplot as plt\n",
    "import ipywidgets as widgets\n",
    "from IPython.display import display\n",
    "from numpy.lib.stride_tricks import as_strided\n",
    "from skimage.data import astronaut\n",
    "\n",
    "def update_blur(kernel_size):\n",
    "    blurred_image = apply_convolution(original_image, kernel_size)\n",
    "    plt.figure(figsize=(10, 5))\n",
    "    plt.subplot(1, 2, 1)\n",
    "    plt.imshow(original_image.astype(np.uint8))\n",
    "    plt.title(\"Original Image\")\n",
    "    plt.axis(\"off\")\n",
    "    plt.subplot(1, 2, 2)\n",
    "    plt.imshow(blurred_image)\n",
    "    plt.title(f\"Blurred Image (Kernel: {kernel_size}x{kernel_size})\")\n",
    "    plt.axis(\"off\")\n",
    "    plt.show()"
   ]
  },
  {
   "cell_type": "code",
   "execution_count": 3,
   "id": "3711ad5a",
   "metadata": {
    "tags": [
     "thebe-remove-input-init"
    ]
   },
   "outputs": [],
   "source": [
    "# Required packages are already imported\n",
    "original_image = astronaut().astype(np.float32)\n",
    "\n",
    "def convolve2d_custom(image, kernel):\n",
    "    h, w = image.shape\n",
    "    k, _ = kernel.shape\n",
    "    pad = k // 2\n",
    "    padded_image = np.pad(image, pad, mode='edge')\n",
    "    strided_shape = (h, w, k, k)\n",
    "    strided_steps = padded_image.strides + padded_image.strides\n",
    "    image_windows = as_strided(padded_image, shape=strided_shape, strides=strided_steps)\n",
    "    return np.tensordot(image_windows, kernel, axes=([2, 3], [0, 1]))"
   ]
  },
  {
   "cell_type": "code",
   "execution_count": null,
   "id": "8e6fbb66",
   "metadata": {
    "tags": [
     "thebe-init"
    ]
   },
   "outputs": [
    {
     "data": {
      "application/vnd.jupyter.widget-view+json": {
       "model_id": "b5898d5c8e6b4cbfb34c53718b8bbe21",
       "version_major": 2,
       "version_minor": 0
      },
      "text/plain": [
       "interactive(children=(IntSlider(value=3, description='Kernel Size', max=21, min=3, step=2), Output()), _dom_cl…"
      ]
     },
     "execution_count": 4,
     "metadata": {},
     "output_type": "execute_result"
    }
   ],
   "source": [
    "def apply_convolution(image, kernel_size):\n",
    "    if kernel_size % 2 == 0:\n",
    "        kernel_size += 1\n",
    "    kernel = np.ones((kernel_size, kernel_size), dtype=np.float32) / (kernel_size ** 2)\n",
    "    if len(image.shape) == 3:\n",
    "        filtered_image = np.stack([convolve2d_custom(image[:, :, c], kernel) for c in range(3)], axis=-1)\n",
    "    else:\n",
    "        filtered_image = convolve2d_custom(image, kernel)\n",
    "    return np.clip(filtered_image, 0, 255).astype(np.uint8)\n",
    "\n",
    "kernel_slider = widgets.IntSlider(min=3, max=21, step=2, value=3, description=\"Kernel Size\")\n",
    "widgets.interactive(update_blur, kernel_size=kernel_slider)"
   ]
  },
  {
   "cell_type": "code",
   "execution_count": null,
   "id": "15bd9bd0",
   "metadata": {},
   "outputs": [],
   "source": []
  }
 ],
 "metadata": {
  "kernelspec": {
   "display_name": "docs_env",
   "language": "python",
   "name": "python3"
  },
  "language_info": {
   "codemirror_mode": {
    "name": "ipython",
    "version": 3
   },
   "file_extension": ".py",
   "mimetype": "text/x-python",
   "name": "python",
   "nbconvert_exporter": "python",
   "pygments_lexer": "ipython3",
   "version": "3.12.8"
  }
 },
 "nbformat": 4,
 "nbformat_minor": 5
}
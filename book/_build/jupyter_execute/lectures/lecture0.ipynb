{
 "cells": [
  {
   "cell_type": "markdown",
   "id": "5d12829c",
   "metadata": {},
   "source": [
    "# Lec 0: Welcome to the course"
   ]
  }
 ],
 "metadata": {
  "language_info": {
   "name": "python"
  }
 },
 "nbformat": 4,
 "nbformat_minor": 5
}